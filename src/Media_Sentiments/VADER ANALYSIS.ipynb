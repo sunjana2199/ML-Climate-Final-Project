{
 "cells": [
  {
   "cell_type": "code",
   "execution_count": 52,
   "id": "36fd7ec3",
   "metadata": {},
   "outputs": [],
   "source": [
    "import pandas as pd\n",
    "import os\n",
    "import re\n",
    "import math\n",
    "import string\n",
    "import codecs\n",
    "import json\n",
    "import warnings\n",
    "warnings.filterwarnings(\"ignore\")\n",
    "\n",
    "from itertools import product\n",
    "from inspect import getsourcefile\n",
    "from io import open\n",
    "# import nltk\n",
    "# nltk.download('vader_lexicon')\n",
    "from nltk.sentiment.vader import SentimentIntensityAnalyzer"
   ]
  },
  {
   "cell_type": "code",
   "execution_count": 53,
   "id": "951e1e8b",
   "metadata": {},
   "outputs": [],
   "source": [
    "sid = SentimentIntensityAnalyzer()"
   ]
  },
  {
   "cell_type": "code",
   "execution_count": 54,
   "id": "b97bf98a",
   "metadata": {},
   "outputs": [],
   "source": [
    "path = 'C:\\\\Users\\\\sunja\\\\OneDrive\\\\Documents\\\\Github\\\\ML-Climate-Final-Project\\\\src\\\\Data\\\\Twitter_Data\\\\'"
   ]
  },
  {
   "cell_type": "code",
   "execution_count": 55,
   "id": "a1f163d1",
   "metadata": {},
   "outputs": [],
   "source": [
    "df1 = pd.read_csv(path+ 'bottom_anomaly_twitter_data.csv')\n",
    "df2 = pd.read_csv(path+ 'top_anomaly_twitter_data.csv')"
   ]
  },
  {
   "cell_type": "code",
   "execution_count": 56,
   "id": "05209f48",
   "metadata": {},
   "outputs": [
    {
     "data": {
      "text/html": [
       "<div>\n",
       "<style scoped>\n",
       "    .dataframe tbody tr th:only-of-type {\n",
       "        vertical-align: middle;\n",
       "    }\n",
       "\n",
       "    .dataframe tbody tr th {\n",
       "        vertical-align: top;\n",
       "    }\n",
       "\n",
       "    .dataframe thead th {\n",
       "        text-align: right;\n",
       "    }\n",
       "</style>\n",
       "<table border=\"1\" class=\"dataframe\">\n",
       "  <thead>\n",
       "    <tr style=\"text-align: right;\">\n",
       "      <th></th>\n",
       "      <th>Unnamed: 0</th>\n",
       "      <th>text</th>\n",
       "      <th>date</th>\n",
       "      <th>Tweet Id</th>\n",
       "    </tr>\n",
       "  </thead>\n",
       "  <tbody>\n",
       "    <tr>\n",
       "      <th>0</th>\n",
       "      <td>0</td>\n",
       "      <td>If you live near New York's La Guardia Airport...</td>\n",
       "      <td>2015-10-04 23:54:01+00:00</td>\n",
       "      <td>650821202676719616</td>\n",
       "    </tr>\n",
       "    <tr>\n",
       "      <th>1</th>\n",
       "      <td>1</td>\n",
       "      <td>.@Space_Station Hello #ISS from New York City ...</td>\n",
       "      <td>2015-10-04 23:27:07+00:00</td>\n",
       "      <td>650814435032875008</td>\n",
       "    </tr>\n",
       "    <tr>\n",
       "      <th>2</th>\n",
       "      <td>2</td>\n",
       "      <td>@myitalianangels @joshcometomexic @joshgroban ...</td>\n",
       "      <td>2015-10-04 23:04:48+00:00</td>\n",
       "      <td>650808820478930944</td>\n",
       "    </tr>\n",
       "    <tr>\n",
       "      <th>3</th>\n",
       "      <td>3</td>\n",
       "      <td>really ⁉.. from 2014⏬\\r\\n\\r\\n\"Half Of New York...</td>\n",
       "      <td>2015-10-04 22:58:17+00:00</td>\n",
       "      <td>650807179230998528</td>\n",
       "    </tr>\n",
       "    <tr>\n",
       "      <th>4</th>\n",
       "      <td>4</td>\n",
       "      <td>@JazzyBonesJones by train yeah. I live in NYS ...</td>\n",
       "      <td>2015-10-04 21:28:19+00:00</td>\n",
       "      <td>650784536855474176</td>\n",
       "    </tr>\n",
       "  </tbody>\n",
       "</table>\n",
       "</div>"
      ],
      "text/plain": [
       "   Unnamed: 0                                               text  \\\n",
       "0           0  If you live near New York's La Guardia Airport...   \n",
       "1           1  .@Space_Station Hello #ISS from New York City ...   \n",
       "2           2  @myitalianangels @joshcometomexic @joshgroban ...   \n",
       "3           3  really ⁉.. from 2014⏬\\r\\n\\r\\n\"Half Of New York...   \n",
       "4           4  @JazzyBonesJones by train yeah. I live in NYS ...   \n",
       "\n",
       "                        date            Tweet Id  \n",
       "0  2015-10-04 23:54:01+00:00  650821202676719616  \n",
       "1  2015-10-04 23:27:07+00:00  650814435032875008  \n",
       "2  2015-10-04 23:04:48+00:00  650808820478930944  \n",
       "3  2015-10-04 22:58:17+00:00  650807179230998528  \n",
       "4  2015-10-04 21:28:19+00:00  650784536855474176  "
      ]
     },
     "execution_count": 56,
     "metadata": {},
     "output_type": "execute_result"
    }
   ],
   "source": [
    "df1.head()"
   ]
  },
  {
   "cell_type": "code",
   "execution_count": 57,
   "id": "39f2215c",
   "metadata": {},
   "outputs": [],
   "source": [
    "df1 = df1.drop(['Unnamed: 0'], axis=1) \n",
    "df2 = df2.drop(['Unnamed: 0'], axis=1) "
   ]
  },
  {
   "cell_type": "code",
   "execution_count": 58,
   "id": "ccf2bfc1",
   "metadata": {},
   "outputs": [],
   "source": [
    "df1['scores'] = df1['text'].apply(lambda column: sid.polarity_scores(column)) #computing polarity\n",
    "df2['scores'] = df2['text'].apply(lambda column: sid.polarity_scores(column)) #computing polarity"
   ]
  },
  {
   "cell_type": "code",
   "execution_count": 59,
   "id": "a5819323",
   "metadata": {},
   "outputs": [],
   "source": [
    "df1['compound']  = df1['scores'].apply(lambda score_dict: score_dict['compound']) #computing compound polarity score\n",
    "df2['compound']  = df2['scores'].apply(lambda score_dict: score_dict['compound']) #computing compound polarity score"
   ]
  },
  {
   "cell_type": "code",
   "execution_count": 60,
   "id": "1576385d",
   "metadata": {},
   "outputs": [],
   "source": [
    "df1['comp_score'] = df1['compound'].apply(lambda c: 'pos' if c >=0 else 'neg') #classifying as pos, neg, neu\n",
    "df2['comp_score'] = df2['compound'].apply(lambda c: 'pos' if c >=0 else 'neg') #classifying as pos, neg, neu"
   ]
  },
  {
   "cell_type": "code",
   "execution_count": 61,
   "id": "b4b77cd1",
   "metadata": {},
   "outputs": [
    {
     "data": {
      "text/plain": [
       "pos    2235\n",
       "neg    1162\n",
       "Name: comp_score, dtype: int64"
      ]
     },
     "execution_count": 61,
     "metadata": {},
     "output_type": "execute_result"
    }
   ],
   "source": [
    "df1['comp_score'].value_counts()"
   ]
  },
  {
   "cell_type": "code",
   "execution_count": 62,
   "id": "5dcb4de3",
   "metadata": {},
   "outputs": [
    {
     "data": {
      "text/plain": [
       "pos    2984\n",
       "neg    1725\n",
       "Name: comp_score, dtype: int64"
      ]
     },
     "execution_count": 62,
     "metadata": {},
     "output_type": "execute_result"
    }
   ],
   "source": [
    "df2['comp_score'].value_counts()"
   ]
  },
  {
   "cell_type": "code",
   "execution_count": 82,
   "id": "dc02969c",
   "metadata": {},
   "outputs": [],
   "source": [
    "new = df1['text'].to_list()\n",
    "new2 = df2['text'].to_list()\n",
    "new = new+new2\n",
    "columns = ['text']"
   ]
  },
  {
   "cell_type": "code",
   "execution_count": 83,
   "id": "517b3e70",
   "metadata": {},
   "outputs": [],
   "source": [
    "df = pd.DataFrame(new, columns = columns)"
   ]
  },
  {
   "cell_type": "code",
   "execution_count": 85,
   "id": "cbcb7311",
   "metadata": {},
   "outputs": [
    {
     "data": {
      "text/plain": [
       "pos    5219\n",
       "neg    2887\n",
       "Name: comp_score, dtype: int64"
      ]
     },
     "execution_count": 85,
     "metadata": {},
     "output_type": "execute_result"
    }
   ],
   "source": [
    "df['scores'] = df['text'].apply(lambda column: sid.polarity_scores(column)) #computing polarity\n",
    "df['compound']  = df['scores'].apply(lambda score_dict: score_dict['compound']) #computing compound polarity score\n",
    "df['comp_score'] = df['compound'].apply(lambda c: 'pos' if c >=0 else 'neg') #classifying as pos, neg, neu\n",
    "df['comp_score'].value_counts()"
   ]
  },
  {
   "cell_type": "code",
   "execution_count": null,
   "id": "07574274",
   "metadata": {},
   "outputs": [],
   "source": []
  }
 ],
 "metadata": {
  "kernelspec": {
   "display_name": "Python 3",
   "language": "python",
   "name": "python3"
  },
  "language_info": {
   "codemirror_mode": {
    "name": "ipython",
    "version": 3
   },
   "file_extension": ".py",
   "mimetype": "text/x-python",
   "name": "python",
   "nbconvert_exporter": "python",
   "pygments_lexer": "ipython3",
   "version": "3.8.8"
  }
 },
 "nbformat": 4,
 "nbformat_minor": 5
}
