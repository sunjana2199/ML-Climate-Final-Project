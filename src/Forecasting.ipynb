{
  "nbformat": 4,
  "nbformat_minor": 0,
  "metadata": {
    "colab": {
      "name": "Forecasting.ipynb",
      "provenance": [],
      "collapsed_sections": [
        "nks9-9X_Pkqu",
        "C0PgNCkQPqLp"
      ]
    },
    "kernelspec": {
      "name": "python3",
      "display_name": "Python 3"
    },
    "language_info": {
      "name": "python"
    }
  },
  "cells": [
    {
      "cell_type": "markdown",
      "source": [
        "**Forecasting has the following stages:**\n",
        "\n",
        "\n",
        "\n",
        "1.   Determining (p,d,q) values in ARIMA\n",
        "2.   Forecasting with ARIMA\n",
        "3.   Analyzing Residual Errors\n",
        "\n",
        "\n",
        "---\n",
        "\n",
        "\n",
        "\n"
      ],
      "metadata": {
        "id": "puBkg3G7sku9"
      }
    },
    {
      "cell_type": "markdown",
      "source": [
        "#Importing Dependencies"
      ],
      "metadata": {
        "id": "HGvGXdi_tntU"
      }
    },
    {
      "cell_type": "code",
      "execution_count": 1,
      "metadata": {
        "id": "DVGewgWLsObw"
      },
      "outputs": [],
      "source": [
        "import numpy as np\n",
        "import pandas as pd\n",
        "import matplotlib.pyplot as plt\n",
        "%matplotlib inline\n",
        "from sklearn.metrics import mean_squared_error\n",
        "from math import sqrt"
      ]
    },
    {
      "cell_type": "markdown",
      "source": [
        "# 1. Determining (p,d,q) values in ARIMA"
      ],
      "metadata": {
        "id": "rl3vOXA5t4zE"
      }
    },
    {
      "cell_type": "markdown",
      "source": [
        "## Determining q value \n",
        "\n",
        "\n",
        "---\n",
        "\n",
        "*ADF TEST : Augmented Dicky Fuller* - finds the differencing vale that removes Stationarity from the Data\n",
        "\n",
        "H0 : Data is not Stationary\n",
        "H1 : Data is Stationary\n",
        "\n",
        "Reject the null hypothesis when ADF value is less than 1% critical value"
      ],
      "metadata": {
        "id": "noyhTq7EuBJ3"
      }
    },
    {
      "cell_type": "code",
      "source": [
        "series = pd.read_csv('/content/energydemand_training.csv', index_col=0, parse_dates=True, squeeze=True)\n",
        "series1 = pd.read_csv('/content/MonthlyEnergyDemandData_training.csv', index_col=0, parse_dates=True, squeeze=True)\n",
        "# series2 = pd.read_csv('/content/MonthlyEnergyDemandData_training2.csv', index_col=0, parse_dates=True, squeeze=True)\n",
        "\n",
        "# series4 = pd.read_csv('/content/YearlyEnergyDemandData_Training.csv', index_col=0, parse_dates=True, squeeze=True)"
      ],
      "metadata": {
        "id": "3Abf08Ypvy08"
      },
      "execution_count": 2,
      "outputs": []
    },
    {
      "cell_type": "code",
      "source": [
        "X = series.values\n",
        "X = X.astype('float32')\n",
        "train_size = int(len(X) * 0.50)\n",
        "train, test = X[0:train_size], X[train_size:]"
      ],
      "metadata": {
        "id": "sQ2yS2ugwWRy"
      },
      "execution_count": 3,
      "outputs": []
    },
    {
      "cell_type": "code",
      "source": [
        "#No Differencing\n",
        "from statsmodels.tsa.stattools import adfuller\n",
        "\n",
        "result = adfuller(X)\n",
        "print('ADF Statistic: %f' % result[0])\n",
        "print('p-value: %f' % result[1])\n",
        "print('Critical Values:')\n",
        "for key, value in result[4].items():\n",
        "  print('\\t%s: %.3f' % (key, value))\n",
        "# save\n",
        "# stationary.to_csv('stationary.csv', header=False)"
      ],
      "metadata": {
        "colab": {
          "base_uri": "https://localhost:8080/"
        },
        "id": "nONZnluvxBzr",
        "outputId": "0bac9d07-5ccd-4cdd-adcf-b2c0d31f6f79"
      },
      "execution_count": 4,
      "outputs": [
        {
          "output_type": "stream",
          "name": "stdout",
          "text": [
            "ADF Statistic: -4.792430\n",
            "p-value: 0.000056\n",
            "Critical Values:\n",
            "\t1%: -3.433\n",
            "\t5%: -2.863\n",
            "\t10%: -2.567\n"
          ]
        }
      ]
    },
    {
      "cell_type": "code",
      "source": [
        "#1 differencing\n",
        "\n",
        "def difference(dataset):\n",
        "  diff = list()\n",
        "  for i in range(1, len(dataset)):\n",
        "    value = dataset[i] - dataset[i - 1]\n",
        "    diff.append(value)\n",
        "  return pd.Series(diff)\n",
        "\n",
        "# difference data\n",
        "stationary = difference(X)\n",
        "stationary.index = series.index[1:]\n",
        "# check if stationary\n",
        "result = adfuller(stationary)\n",
        "print('ADF Statistic: %f' % result[0])\n",
        "print('p-value: %f' % result[1])\n",
        "print('Critical Values:')\n",
        "for key, value in result[4].items():\n",
        "  print('\\t%s: %.3f' % (key, value))\n",
        "# save\n",
        "stationary.to_csv('stationary.csv', header=False)"
      ],
      "metadata": {
        "colab": {
          "base_uri": "https://localhost:8080/"
        },
        "id": "BozS6owVt361",
        "outputId": "64965c62-a6cd-4a60-ba41-cd963e2e746a"
      },
      "execution_count": 5,
      "outputs": [
        {
          "output_type": "stream",
          "name": "stdout",
          "text": [
            "ADF Statistic: -9.247085\n",
            "p-value: 0.000000\n",
            "Critical Values:\n",
            "\t1%: -3.433\n",
            "\t5%: -2.863\n",
            "\t10%: -2.567\n"
          ]
        }
      ]
    },
    {
      "cell_type": "markdown",
      "source": [
        "Since ADF statistic is less than 1% Critical Value for both 0 and 1 differencing, we can conclude that the data is not stationary"
      ],
      "metadata": {
        "id": "7int8LRHwguK"
      }
    },
    {
      "cell_type": "markdown",
      "source": [
        "## Determining p value\n",
        "\n",
        "\n",
        "\n",
        "---\n",
        "\n",
        "Plotting Autocorrelation and Partial Autocorrelation plots:"
      ],
      "metadata": {
        "id": "wUosQq9rx9xL"
      }
    },
    {
      "cell_type": "markdown",
      "source": [
        "### For Daily Data"
      ],
      "metadata": {
        "id": "nks9-9X_Pkqu"
      }
    },
    {
      "cell_type": "code",
      "source": [
        "from statsmodels.graphics.tsaplots import plot_acf\n",
        "from statsmodels.graphics.tsaplots import plot_pacf\n",
        "\n",
        "plt.figure(figsize=(20,8))\n",
        "plt.subplot(211)\n",
        "plot_acf(series, lags=650, ax=plt.gca())\n",
        "plt.subplot(212)\n",
        "plot_pacf(series, lags=400, ax=plt.gca())\n",
        "plt.show()"
      ],
      "metadata": {
        "colab": {
          "base_uri": "https://localhost:8080/",
          "height": 556
        },
        "id": "DGiNNgskt1ap",
        "outputId": "9c190f80-6ce8-435f-c212-1897a810189d"
      },
      "execution_count": 6,
      "outputs": [
        {
          "output_type": "stream",
          "name": "stderr",
          "text": [
            "/usr/local/lib/python3.7/dist-packages/statsmodels/graphics/tsaplots.py:353: FutureWarning: The default method 'yw' can produce PACF values outside of the [-1,1] interval. After 0.13, the default will change tounadjusted Yule-Walker ('ywm'). You can use this method now by setting method='ywm'.\n",
            "  FutureWarning,\n"
          ]
        },
        {
          "output_type": "display_data",
          "data": {
            "text/plain": [
              "<Figure size 1440x576 with 2 Axes>"
            ],
            "image/png": "[encoded data removed]"
          },
          "metadata": {
            "needs_background": "light"
          }
        }
      ]
    },
    {
      "cell_type": "markdown",
      "source": [
        "Here we can see some correlation when p value is around 365\n",
        "\n",
        "Also some inverse correlation is observed at 100 and 280\n",
        "\n",
        "Let us now visualize using monthly data"
      ],
      "metadata": {
        "id": "zt3E4xtbQFXq"
      }
    },
    {
      "cell_type": "markdown",
      "source": [
        "### For Monthly Data"
      ],
      "metadata": {
        "id": "C0PgNCkQPqLp"
      }
    },
    {
      "cell_type": "code",
      "source": [
        "from statsmodels.graphics.tsaplots import plot_acf\n",
        "from statsmodels.graphics.tsaplots import plot_pacf\n",
        "\n",
        "plt.figure(figsize=(20,8))\n",
        "plt.subplot(211)\n",
        "plot_acf(series1, lags=50, ax=plt.gca())\n",
        "plt.subplot(212)\n",
        "plot_pacf(series1, lags=50, ax=plt.gca())\n",
        "plt.show()"
      ],
      "metadata": {
        "colab": {
          "base_uri": "https://localhost:8080/",
          "height": 918
        },
        "id": "P-7t8BZayT9p",
        "outputId": "19ee415a-b578-47ad-d2a5-b89d2e1286be"
      },
      "execution_count": 8,
      "outputs": [
        {
          "output_type": "stream",
          "name": "stderr",
          "text": [
            "/usr/local/lib/python3.7/dist-packages/statsmodels/graphics/tsaplots.py:353: FutureWarning: The default method 'yw' can produce PACF values outside of the [-1,1] interval. After 0.13, the default will change tounadjusted Yule-Walker ('ywm'). You can use this method now by setting method='ywm'.\n",
            "  FutureWarning,\n"
          ]
        },
        {
          "output_type": "error",
          "ename": "ValueError",
          "evalue": "ignored",
          "traceback": [
            "\u001b[0;31m---------------------------------------------------------------------------\u001b[0m",
            "\u001b[0;31mValueError\u001b[0m                                Traceback (most recent call last)",
            "\u001b[0;32m<ipython-input-8-6e7c0c0369d5>\u001b[0m in \u001b[0;36m<module>\u001b[0;34m()\u001b[0m\n\u001b[1;32m      6\u001b[0m \u001b[0mplot_acf\u001b[0m\u001b[0;34m(\u001b[0m\u001b[0mseries1\u001b[0m\u001b[0;34m,\u001b[0m \u001b[0mlags\u001b[0m\u001b[0;34m=\u001b[0m\u001b[0;36m50\u001b[0m\u001b[0;34m,\u001b[0m \u001b[0max\u001b[0m\u001b[0;34m=\u001b[0m\u001b[0mplt\u001b[0m\u001b[0;34m.\u001b[0m\u001b[0mgca\u001b[0m\u001b[0;34m(\u001b[0m\u001b[0;34m)\u001b[0m\u001b[0;34m)\u001b[0m\u001b[0;34m\u001b[0m\u001b[0;34m\u001b[0m\u001b[0m\n\u001b[1;32m      7\u001b[0m \u001b[0mplt\u001b[0m\u001b[0;34m.\u001b[0m\u001b[0msubplot\u001b[0m\u001b[0;34m(\u001b[0m\u001b[0;36m212\u001b[0m\u001b[0;34m)\u001b[0m\u001b[0;34m\u001b[0m\u001b[0;34m\u001b[0m\u001b[0m\n\u001b[0;32m----> 8\u001b[0;31m \u001b[0mplot_pacf\u001b[0m\u001b[0;34m(\u001b[0m\u001b[0mseries1\u001b[0m\u001b[0;34m,\u001b[0m \u001b[0mlags\u001b[0m\u001b[0;34m=\u001b[0m\u001b[0;36m50\u001b[0m\u001b[0;34m,\u001b[0m \u001b[0max\u001b[0m\u001b[0;34m=\u001b[0m\u001b[0mplt\u001b[0m\u001b[0;34m.\u001b[0m\u001b[0mgca\u001b[0m\u001b[0;34m(\u001b[0m\u001b[0;34m)\u001b[0m\u001b[0;34m)\u001b[0m\u001b[0;34m\u001b[0m\u001b[0;34m\u001b[0m\u001b[0m\n\u001b[0m\u001b[1;32m      9\u001b[0m \u001b[0mplt\u001b[0m\u001b[0;34m.\u001b[0m\u001b[0mshow\u001b[0m\u001b[0;34m(\u001b[0m\u001b[0;34m)\u001b[0m\u001b[0;34m\u001b[0m\u001b[0;34m\u001b[0m\u001b[0m\n",
            "\u001b[0;32m/usr/local/lib/python3.7/dist-packages/statsmodels/graphics/tsaplots.py\u001b[0m in \u001b[0;36mplot_pacf\u001b[0;34m(x, ax, lags, alpha, method, use_vlines, title, zero, vlines_kwargs, **kwargs)\u001b[0m\n\u001b[1;32m    361\u001b[0m         \u001b[0macf_x\u001b[0m \u001b[0;34m=\u001b[0m \u001b[0mpacf\u001b[0m\u001b[0;34m(\u001b[0m\u001b[0mx\u001b[0m\u001b[0;34m,\u001b[0m \u001b[0mnlags\u001b[0m\u001b[0;34m=\u001b[0m\u001b[0mnlags\u001b[0m\u001b[0;34m,\u001b[0m \u001b[0malpha\u001b[0m\u001b[0;34m=\u001b[0m\u001b[0malpha\u001b[0m\u001b[0;34m,\u001b[0m \u001b[0mmethod\u001b[0m\u001b[0;34m=\u001b[0m\u001b[0mmethod\u001b[0m\u001b[0;34m)\u001b[0m\u001b[0;34m\u001b[0m\u001b[0;34m\u001b[0m\u001b[0m\n\u001b[1;32m    362\u001b[0m     \u001b[0;32melse\u001b[0m\u001b[0;34m:\u001b[0m\u001b[0;34m\u001b[0m\u001b[0;34m\u001b[0m\u001b[0m\n\u001b[0;32m--> 363\u001b[0;31m         \u001b[0macf_x\u001b[0m\u001b[0;34m,\u001b[0m \u001b[0mconfint\u001b[0m \u001b[0;34m=\u001b[0m \u001b[0mpacf\u001b[0m\u001b[0;34m(\u001b[0m\u001b[0mx\u001b[0m\u001b[0;34m,\u001b[0m \u001b[0mnlags\u001b[0m\u001b[0;34m=\u001b[0m\u001b[0mnlags\u001b[0m\u001b[0;34m,\u001b[0m \u001b[0malpha\u001b[0m\u001b[0;34m=\u001b[0m\u001b[0malpha\u001b[0m\u001b[0;34m,\u001b[0m \u001b[0mmethod\u001b[0m\u001b[0;34m=\u001b[0m\u001b[0mmethod\u001b[0m\u001b[0;34m)\u001b[0m\u001b[0;34m\u001b[0m\u001b[0;34m\u001b[0m\u001b[0m\n\u001b[0m\u001b[1;32m    364\u001b[0m \u001b[0;34m\u001b[0m\u001b[0m\n\u001b[1;32m    365\u001b[0m     _plot_corr(\n",
            "\u001b[0;32m/usr/local/lib/python3.7/dist-packages/statsmodels/tsa/stattools.py\u001b[0m in \u001b[0;36mpacf\u001b[0;34m(x, nlags, method, alpha)\u001b[0m\n\u001b[1;32m    995\u001b[0m     \u001b[0;32mif\u001b[0m \u001b[0mnlags\u001b[0m \u001b[0;34m>=\u001b[0m \u001b[0mx\u001b[0m\u001b[0;34m.\u001b[0m\u001b[0mshape\u001b[0m\u001b[0;34m[\u001b[0m\u001b[0;36m0\u001b[0m\u001b[0;34m]\u001b[0m \u001b[0;34m//\u001b[0m \u001b[0;36m2\u001b[0m\u001b[0;34m:\u001b[0m\u001b[0;34m\u001b[0m\u001b[0;34m\u001b[0m\u001b[0m\n\u001b[1;32m    996\u001b[0m         raise ValueError(\n\u001b[0;32m--> 997\u001b[0;31m             \u001b[0;34m\"Can only compute partial correlations for lags up to 50% of the \"\u001b[0m\u001b[0;34m\u001b[0m\u001b[0;34m\u001b[0m\u001b[0m\n\u001b[0m\u001b[1;32m    998\u001b[0m             \u001b[0;34mf\"sample size. The requested nlags {nlags} must be < \"\u001b[0m\u001b[0;34m\u001b[0m\u001b[0;34m\u001b[0m\u001b[0m\n\u001b[1;32m    999\u001b[0m             \u001b[0;34mf\"{x.shape[0] // 2}.\"\u001b[0m\u001b[0;34m\u001b[0m\u001b[0;34m\u001b[0m\u001b[0m\n",
            "\u001b[0;31mValueError\u001b[0m: Can only compute partial correlations for lags up to 50% of the sample size. The requested nlags 50 must be < 39."
          ]
        },
        {
          "output_type": "display_data",
          "data": {
            "text/plain": [
              "<Figure size 1440x576 with 2 Axes>"
            ],
            "image/png": "[encoded data removed]"
          },
          "metadata": {
            "needs_background": "light"
          }
        }
      ]
    },
    {
      "cell_type": "markdown",
      "source": [
        "At p = 3, some inverse correlation is observed\n",
        "\n",
        "At p = 11 and 12, some positive correlation is seen\n",
        "\n",
        "This shows that Today's demand is highly correlated with last year's demand on the same day."
      ],
      "metadata": {
        "id": "ORb2d4yxQbt1"
      }
    },
    {
      "cell_type": "markdown",
      "source": [
        "### For Yearly Data"
      ],
      "metadata": {
        "id": "wlf-ieTxP__k"
      }
    },
    {
      "cell_type": "code",
      "source": [
        "from statsmodels.graphics.tsaplots import plot_acf\n",
        "from statsmodels.graphics.tsaplots import plot_pacf\n",
        "\n",
        "plt.figure(figsize=(20,8))\n",
        "plt.subplot(211)\n",
        "plot_acf(series4, lags=5, ax=plt.gca())\n",
        "plt.subplot(212)\n",
        "plot_pacf(series4, lags=10, ax=plt.gca())\n",
        "plt.show()"
      ],
      "metadata": {
        "id": "mALJJWUJKg07"
      },
      "execution_count": null,
      "outputs": []
    },
    {
      "cell_type": "markdown",
      "source": [
        "This does not give much insight."
      ],
      "metadata": {
        "id": "CEiFzdUBRJGZ"
      }
    },
    {
      "cell_type": "markdown",
      "source": [
        "# Fitting the ARIMA model using (p,d,q) = (365,1,1):"
      ],
      "metadata": {
        "id": "3tuy1JJyRP16"
      }
    },
    {
      "cell_type": "code",
      "source": [
        "pd.__version__"
      ],
      "metadata": {
        "id": "vaQNem4k9tEq"
      },
      "execution_count": null,
      "outputs": []
    },
    {
      "cell_type": "code",
      "source": [
        "from statsmodels.tsa.arima.model import ARIMA\n",
        "#prepare data\n",
        "X = series1.values\n",
        "X = X.astype('float32')\n",
        "train_size = int(len(X) * 0.50)\n",
        "train, test = X[0:train_size], X[train_size:]\n",
        "\n",
        "# walk-forward validation\n",
        "history = [x for x in train]\n",
        "predictions = list()\n",
        "for i in range(len(test)): \n",
        "  # predict\n",
        "  model = ARIMA(history, order=(12,1,1))\n",
        "  model_fit = model.fit()\n",
        "  yhat = model_fit.forecast()[0]\n",
        "  predictions.append(yhat)\n",
        "  # observation\n",
        "  obs = test[i]\n",
        "  history.append(obs)\n",
        "  print('>Predicted=%.3f, Expected=%.3f' % (yhat, obs))\n",
        "\n",
        "# report performance\n",
        "rmse = sqrt(mean_squared_error(test, predictions))\n",
        "print('RMSE: %.3f' % rmse)"
      ],
      "metadata": {
        "id": "Wapnale6RkI_",
        "colab": {
          "base_uri": "https://localhost:8080/"
        },
        "outputId": "b95198ed-6fe5-492a-85a4-b00505fc7269"
      },
      "execution_count": 16,
      "outputs": [
        {
          "output_type": "stream",
          "name": "stdout",
          "text": [
            ">Predicted=17624.742, Expected=16602.000\n",
            ">Predicted=16992.164, Expected=17113.000\n",
            ">Predicted=18890.034, Expected=17721.000\n",
            ">Predicted=18255.831, Expected=18713.000\n",
            ">Predicted=18507.811, Expected=18161.000\n",
            ">Predicted=17541.989, Expected=17158.000\n",
            ">Predicted=16158.281, Expected=15457.000\n",
            ">Predicted=16615.431, Expected=15525.000\n",
            ">Predicted=17437.702, Expected=17889.000\n",
            ">Predicted=20045.972, Expected=22473.000\n",
            ">Predicted=22327.785, Expected=20299.000\n",
            ">Predicted=17612.563, Expected=17479.000\n",
            ">Predicted=15691.402, Expected=15727.000\n",
            ">Predicted=16781.679, Expected=16666.000\n",
            ">Predicted=16968.309, Expected=17811.000\n",
            ">Predicted=18820.975, Expected=17637.000\n",
            ">Predicted=17481.861, Expected=17368.000\n",
            ">Predicted=16092.025, Expected=15638.000\n",
            ">Predicted=15207.223, Expected=14333.000\n",
            ">Predicted=15038.920, Expected=14371.000\n",
            ">Predicted=17196.399, Expected=17945.000\n",
            ">Predicted=19542.903, Expected=22092.000\n",
            ">Predicted=20446.471, Expected=20375.000\n",
            ">Predicted=17474.290, Expected=16988.000\n",
            ">Predicted=15595.329, Expected=15272.000\n",
            ">Predicted=16545.006, Expected=15687.000\n",
            ">Predicted=16567.327, Expected=17376.000\n",
            ">Predicted=17906.699, Expected=17771.000\n",
            ">Predicted=17379.658, Expected=18080.000\n",
            ">Predicted=16213.719, Expected=16037.000\n",
            ">Predicted=15126.176, Expected=14736.000\n",
            ">Predicted=15410.297, Expected=15208.000\n",
            ">Predicted=18357.591, Expected=19090.000\n",
            ">Predicted=21090.339, Expected=20119.000\n",
            ">Predicted=18866.814, Expected=21014.000\n",
            ">Predicted=18062.995, Expected=17495.000\n",
            ">Predicted=16110.054, Expected=15529.000\n",
            ">Predicted=15551.147, Expected=16113.000\n",
            ">Predicted=17930.373, Expected=16997.000\n",
            "RMSE: 958.552\n"
          ]
        }
      ]
    },
    {
      "cell_type": "code",
      "source": [
        "import warnings\n",
        "# evaluate an ARIMA model for a given order (p,d,q) and return RMSE\n",
        "def evaluate_arima_model(X, arima_order):\n",
        "  # prepare training dataset\n",
        "  X = X.astype('float32')\n",
        "  train_size = int(len(X) * 0.50)\n",
        "  train, test = X[0:train_size], X[train_size:]\n",
        "  history = [x for x in train]\n",
        "  # make predictions\n",
        "  predictions = list()\n",
        "  for t in range(len(test)):\n",
        "    model = ARIMA(history, order=arima_order)\n",
        "    model_fit = model.fit()\n",
        "    yhat = model_fit.forecast()[0]\n",
        "    predictions.append(yhat)\n",
        "    history.append(test[t])\n",
        "  # calculate out of sample error\n",
        "  rmse = sqrt(mean_squared_error(test, predictions))\n",
        "  return rmse\n",
        "\n",
        "# evaluate combinations of p, d and q values for an ARIMA model\n",
        "def evaluate_models(dataset, p_values, d_values, q_values):\n",
        "  dataset = dataset.astype('float32')\n",
        "  best_score, best_cfg = float(\"inf\"), None\n",
        "  for p in p_values:\n",
        "    for d in d_values:\n",
        "      for q in q_values:\n",
        "        order = (p,d,q)\n",
        "        try:\n",
        "          rmse = evaluate_arima_model(dataset, order)\n",
        "          if rmse < best_score:\n",
        "            best_score, best_cfg = rmse, order\n",
        "          print('ARIMA%s RMSE=%.3f' % (order,rmse))\n",
        "        except:\n",
        "          continue\n",
        "  print('Best ARIMA%s RMSE=%.3f' % (best_cfg, best_score))\n",
        "\n",
        "# evaluate parameters\n",
        "p_values = range(0,13)\n",
        "d_values = range(0,2)\n",
        "q_values = range(0,3)\n",
        "warnings.filterwarnings(\"ignore\")\n",
        "evaluate_models(series1.values, p_values, d_values, q_values)"
      ],
      "metadata": {
        "colab": {
          "base_uri": "https://localhost:8080/"
        },
        "id": "-9To-171R7w_",
        "outputId": "9b0f4eab-55d8-4f34-8a0b-dca3a9b0fd01"
      },
      "execution_count": 17,
      "outputs": [
        {
          "output_type": "stream",
          "name": "stdout",
          "text": [
            "ARIMA(0, 0, 0) RMSE=2100.405\n",
            "ARIMA(0, 0, 1) RMSE=1604.901\n",
            "ARIMA(0, 0, 2) RMSE=1389.511\n",
            "ARIMA(0, 1, 0) RMSE=1976.228\n",
            "ARIMA(0, 1, 1) RMSE=1837.103\n",
            "ARIMA(0, 1, 2) RMSE=1752.323\n",
            "ARIMA(1, 0, 0) RMSE=1766.944\n",
            "ARIMA(1, 0, 1) RMSE=1539.972\n",
            "ARIMA(1, 0, 2) RMSE=1404.426\n",
            "ARIMA(1, 1, 0) RMSE=1901.346\n",
            "ARIMA(1, 1, 1) RMSE=1836.758\n",
            "ARIMA(1, 1, 2) RMSE=1565.228\n",
            "ARIMA(2, 0, 0) RMSE=1267.243\n",
            "ARIMA(2, 0, 1) RMSE=1280.505\n",
            "ARIMA(2, 0, 2) RMSE=1265.496\n",
            "ARIMA(2, 1, 0) RMSE=1600.002\n",
            "ARIMA(2, 1, 1) RMSE=1376.459\n",
            "ARIMA(2, 1, 2) RMSE=1170.736\n",
            "ARIMA(3, 0, 0) RMSE=1280.362\n",
            "ARIMA(3, 0, 1) RMSE=1292.272\n",
            "ARIMA(3, 0, 2) RMSE=1310.432\n",
            "ARIMA(3, 1, 0) RMSE=1395.406\n",
            "ARIMA(3, 1, 1) RMSE=1385.604\n",
            "ARIMA(3, 1, 2) RMSE=1337.325\n",
            "ARIMA(4, 0, 0) RMSE=1267.210\n",
            "ARIMA(4, 0, 1) RMSE=1306.967\n",
            "ARIMA(4, 0, 2) RMSE=1297.363\n",
            "ARIMA(4, 1, 0) RMSE=1386.899\n",
            "ARIMA(4, 1, 1) RMSE=1342.604\n",
            "ARIMA(4, 1, 2) RMSE=1364.597\n",
            "ARIMA(5, 0, 0) RMSE=1276.838\n",
            "ARIMA(5, 0, 1) RMSE=1297.017\n",
            "ARIMA(5, 0, 2) RMSE=1303.773\n",
            "ARIMA(5, 1, 0) RMSE=1363.734\n",
            "ARIMA(5, 1, 1) RMSE=1367.083\n",
            "ARIMA(5, 1, 2) RMSE=1356.357\n",
            "ARIMA(6, 0, 0) RMSE=1294.361\n",
            "ARIMA(6, 0, 1) RMSE=1282.521\n",
            "ARIMA(6, 0, 2) RMSE=1282.356\n",
            "ARIMA(6, 1, 0) RMSE=1367.733\n",
            "ARIMA(6, 1, 1) RMSE=1373.337\n",
            "ARIMA(6, 1, 2) RMSE=1233.712\n",
            "ARIMA(7, 0, 0) RMSE=1329.826\n",
            "ARIMA(7, 0, 1) RMSE=1340.036\n",
            "ARIMA(7, 0, 2) RMSE=1195.220\n",
            "ARIMA(7, 1, 0) RMSE=1372.742\n",
            "ARIMA(7, 1, 1) RMSE=1367.051\n",
            "ARIMA(7, 1, 2) RMSE=1240.139\n",
            "ARIMA(8, 0, 0) RMSE=1292.595\n",
            "ARIMA(8, 0, 1) RMSE=1313.710\n",
            "ARIMA(8, 0, 2) RMSE=1083.098\n",
            "ARIMA(8, 1, 0) RMSE=1331.374\n",
            "ARIMA(8, 1, 1) RMSE=1186.291\n",
            "ARIMA(8, 1, 2) RMSE=1057.051\n",
            "ARIMA(9, 0, 0) RMSE=1331.399\n",
            "ARIMA(9, 0, 1) RMSE=1365.887\n",
            "ARIMA(9, 0, 2) RMSE=1075.722\n",
            "ARIMA(9, 1, 0) RMSE=1142.123\n",
            "ARIMA(9, 1, 1) RMSE=1050.829\n",
            "ARIMA(9, 1, 2) RMSE=1012.057\n",
            "ARIMA(10, 0, 0) RMSE=1162.586\n",
            "ARIMA(10, 0, 1) RMSE=1050.979\n",
            "ARIMA(10, 0, 2) RMSE=1000.805\n",
            "ARIMA(10, 1, 0) RMSE=956.875\n",
            "ARIMA(10, 1, 1) RMSE=947.898\n",
            "ARIMA(10, 1, 2) RMSE=957.215\n",
            "ARIMA(11, 0, 0) RMSE=973.522\n",
            "ARIMA(11, 0, 1) RMSE=939.855\n",
            "ARIMA(11, 0, 2) RMSE=940.063\n",
            "ARIMA(11, 1, 0) RMSE=927.846\n",
            "ARIMA(11, 1, 1) RMSE=972.177\n",
            "ARIMA(11, 1, 2) RMSE=916.859\n",
            "ARIMA(12, 0, 0) RMSE=920.802\n",
            "ARIMA(12, 0, 1) RMSE=924.431\n",
            "ARIMA(12, 0, 2) RMSE=930.787\n",
            "ARIMA(12, 1, 0) RMSE=977.595\n",
            "ARIMA(12, 1, 1) RMSE=958.552\n",
            "ARIMA(12, 1, 2) RMSE=955.259\n",
            "Best ARIMA(11, 1, 2) RMSE=916.859\n"
          ]
        }
      ]
    },
    {
      "cell_type": "code",
      "source": [
        ""
      ],
      "metadata": {
        "id": "x8HAQjnT6yKJ"
      },
      "execution_count": null,
      "outputs": []
    }
  ]
}